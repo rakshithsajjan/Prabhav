{
 "cells": [
  {
   "cell_type": "code",
   "execution_count": 1,
   "metadata": {},
   "outputs": [],
   "source": [
    "import json\n",
    "from collections import Counter\n",
    "\n",
    "def load_tag_index(file_path):\n",
    "    with open(file_path, 'r') as f:\n",
    "        return json.load(f)\n",
    "\n",
    "def search_schemes(query, tag_index):\n",
    "    # Convert query to lowercase and split into words\n",
    "    query_words = query.lower().split()\n",
    "    \n",
    "    # Find matching tags\n",
    "    matching_tags = [tag for tag in tag_index.keys() if any(word in tag.lower() for word in query_words)]\n",
    "    \n",
    "    # Get schemes for matching tags\n",
    "    matching_schemes = []\n",
    "    for tag in matching_tags:\n",
    "        matching_schemes.extend(tag_index[tag])\n",
    "    \n",
    "    # Count occurrences of each scheme\n",
    "    scheme_counts = Counter(matching_schemes)\n",
    "    \n",
    "    # Sort schemes by relevance (number of matching tags)\n",
    "    sorted_schemes = sorted(scheme_counts.items(), key=lambda x: x[1], reverse=True)\n",
    "    \n",
    "    return [scheme for scheme, count in sorted_schemes]\n",
    "\n",
    "# Load the tag index\n",
    "tag_index = load_tag_index('tag_index.json')\n",
    "\n",
    "# Example usage\n"
   ]
  },
  {
   "cell_type": "code",
   "execution_count": 3,
   "metadata": {},
   "outputs": [
    {
     "name": "stdout",
     "output_type": "stream",
     "text": [
      "Matching schemes: ['Pradhan_Mantri_Uchchatar_Shiksha_Protsahan_Yojana:_Central_Sector_Interest_Subsidy_Scheme.json', 'Education_Loan_Scheme-_Credit_Line_1_for_Minority_Community.json', 'Scheme_For_Soft_Loan_To_The_Grant-in-aid__Non-grant_In_Aid_Institutions_For_Maintenance_And_Upgradation_Of_Infrastructure_Facilities.json', 'National_Overseas_Scholarship_For_Scheduled_Caste_Etc._Candidates.json', 'Nirman_Shramik_Avm_Unke_Aashrit_Bacchon_Dwara_Bhartiya_Rajasthan_Prashasnik_Seva_Hetu_Aayojit_Pratibhabhik_Yojana.json']\n"
     ]
    }
   ],
   "source": [
    "user_query = \"education loan abroad\"\n",
    "import openai\n",
    "# Function to generate tags using OpenAI API\n",
    "def generate_tags_with_openai(query):\n",
    "    openai.api_key = 'YOUR_API_KEY_HERE'  # Replace with your actual API key\n",
    "    \n",
    "    response = openai.Completion.create(\n",
    "        engine=\"text-davinci-002\",\n",
    "        prompt=f\"Generate relevant tags for the query: '{query}'\\nTags:\",\n",
    "        max_tokens=50,\n",
    "        n=1,\n",
    "        stop=None,\n",
    "        temperature=0.5,\n",
    "    )\n",
    "    \n",
    "    generated_tags = response.choices[0].text.strip().split(',')\n",
    "    return [tag.strip().lower() for tag in generated_tags]\n",
    "\n",
    "# Combine results from tag index and OpenAI-generated tags\n",
    "def combined_search(query, tag_index):\n",
    "    # Get results from original search function\n",
    "    original_results = search_schemes(query, tag_index)\n",
    "    \n",
    "    # Generate tags using OpenAI\n",
    "    ai_generated_tags = generate_tags_with_openai(query)\n",
    "    \n",
    "    # Search using AI-generated tags\n",
    "    ai_results = []\n",
    "    for tag in ai_generated_tags:\n",
    "        if tag in tag_index:\n",
    "            ai_results.extend(tag_index[tag])\n",
    "    \n",
    "    # Combine and deduplicate results\n",
    "    combined_results = list(dict.fromkeys(original_results + ai_results))\n",
    "    \n",
    "    return combined_results\n",
    "\n",
    "# Use the combined search function\n",
    "\n",
    "results = search_schemes(user_query, tag_index)\n",
    "print(f\"Matching schemes: {results[:5]}\")  # Print top 5 results"
   ]
  }
 ],
 "metadata": {
  "kernelspec": {
   "display_name": "scrape",
   "language": "python",
   "name": "python3"
  },
  "language_info": {
   "codemirror_mode": {
    "name": "ipython",
    "version": 3
   },
   "file_extension": ".py",
   "mimetype": "text/x-python",
   "name": "python",
   "nbconvert_exporter": "python",
   "pygments_lexer": "ipython3",
   "version": "3.10.14"
  }
 },
 "nbformat": 4,
 "nbformat_minor": 2
}
